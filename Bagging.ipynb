{
  "nbformat": 4,
  "nbformat_minor": 0,
  "metadata": {
    "colab": {
      "name": "Bagging.ipynb",
      "version": "0.3.2",
      "provenance": [],
      "collapsed_sections": [],
      "toc_visible": true,
      "include_colab_link": true
    },
    "kernelspec": {
      "name": "python3",
      "display_name": "Python 3"
    }
  },
  "cells": [
    {
      "cell_type": "markdown",
      "metadata": {
        "id": "view-in-github",
        "colab_type": "text"
      },
      "source": [
        "<a href=\"https://colab.research.google.com/github/rizkiar00/Bagging-Berbasis-Naive-Bayes/blob/master/Bagging.ipynb\" target=\"_parent\"><img src=\"https://colab.research.google.com/assets/colab-badge.svg\" alt=\"Open In Colab\"/></a>"
      ]
    },
    {
      "cell_type": "markdown",
      "metadata": {
        "id": "EVFGzgRUt5im",
        "colab_type": "text"
      },
      "source": [
        "###Import"
      ]
    },
    {
      "cell_type": "code",
      "metadata": {
        "id": "MboIfoaz6i0X",
        "colab_type": "code",
        "outputId": "4c581dc7-7272-4ab3-935c-cb27e13d9570",
        "colab": {
          "base_uri": "https://localhost:8080/",
          "height": 118
        }
      },
      "source": [
        "!git clone https://github.com/rizkiar00/Bagging-Berbasis-Naive-Bayes"
      ],
      "execution_count": 1,
      "outputs": [
        {
          "output_type": "stream",
          "text": [
            "Cloning into 'Bagging-Berbasis-Naive-Bayes'...\n",
            "remote: Enumerating objects: 28, done.\u001b[K\n",
            "remote: Counting objects: 100% (28/28), done.\u001b[K\n",
            "remote: Compressing objects: 100% (26/26), done.\u001b[K\n",
            "remote: Total 28 (delta 13), reused 0 (delta 0), pack-reused 0\u001b[K\n",
            "Unpacking objects: 100% (28/28), done.\n"
          ],
          "name": "stdout"
        }
      ]
    },
    {
      "cell_type": "code",
      "metadata": {
        "id": "9qg6CpYm8iVu",
        "colab_type": "code",
        "colab": {}
      },
      "source": [
        "import numpy as np\n",
        "import pandas as pd\n",
        "import matplotlib.pyplot as plt; \n",
        "from sklearn.naive_bayes import GaussianNB\n",
        "from sklearn.metrics import confusion_matrix\n",
        "%matplotlib inline"
      ],
      "execution_count": 0,
      "outputs": []
    },
    {
      "cell_type": "markdown",
      "metadata": {
        "id": "zyoCnyIyuXPE",
        "colab_type": "text"
      },
      "source": [
        "###AMBIL DATA TRAIN"
      ]
    },
    {
      "cell_type": "code",
      "metadata": {
        "id": "zvDZ22GJ6xeQ",
        "colab_type": "code",
        "outputId": "12c6388e-0ce0-483f-be00-2eae4b13e6db",
        "colab": {
          "base_uri": "https://localhost:8080/",
          "height": 84
        }
      },
      "source": [
        "train = np.genfromtxt('Bagging-Berbasis-Naive-Bayes/TrainsetTugas4ML.csv', delimiter=',', skip_header=1)\n",
        "dftrain = pd.DataFrame(data=train)\n",
        "print(\"Kelas:\", pd.Series(dftrain.loc[:,2], name='A').unique())\n",
        "dftrain[2].value_counts()"
      ],
      "execution_count": 5,
      "outputs": [
        {
          "output_type": "stream",
          "text": [
            "Kelas: [2. 1.]\n"
          ],
          "name": "stdout"
        },
        {
          "output_type": "execute_result",
          "data": {
            "text/plain": [
              "1.0    220\n",
              "2.0     78\n",
              "Name: 2, dtype: int64"
            ]
          },
          "metadata": {
            "tags": []
          },
          "execution_count": 5
        }
      ]
    },
    {
      "cell_type": "markdown",
      "metadata": {
        "id": "vIp6YbyRudD1",
        "colab_type": "text"
      },
      "source": [
        "###LAKUKAN TRAINING\n",
        "\n",
        "*   JUMLAH MODEL DAN JUMLAH DATA YANG DIPAKAI TRAINING BEBAS\n",
        "*   LAKUKAN TESTING KE SISA DATA YANG BELUM DIGUNAKAN UNTUK TRAINING\n",
        "*   BAGGING MELAKUKAN VOTING UNTUK TIAP MODEL, KELAS MANAKAH SUATU DATA MASUK\n",
        "*   LIHAT AKURASINYA\n",
        "\n",
        "\n"
      ]
    },
    {
      "cell_type": "code",
      "metadata": {
        "id": "wSaUmyaBCdyx",
        "colab_type": "code",
        "outputId": "af672776-e8ec-46a8-db56-9abe49f7a3ae",
        "colab": {
          "base_uri": "https://localhost:8080/",
          "height": 403
        }
      },
      "source": [
        "#Bagian ini milih random datatrain (satu data bisa dipilih lebih dari satu kali) buat di training\n",
        "jumlahmodel = 21\n",
        "datatrainingdiambil = 30\n",
        "array = np.arange(0,dftrain.shape[0])\n",
        "random = np.random.randint(dftrain.shape[0], size=(jumlahmodel,datatrainingdiambil))\n",
        "#test itu data training yang gak kepilih/kepake buat training. jadi test bakal dipake buat testing dan cari akurasinya\n",
        "test = [i for i in array if i not in random]\n",
        "print(\"Jumlah Sisa: \",len(test))\n",
        "Xtrainrandom = []\n",
        "Ytrainrandom = []\n",
        "for i in range(jumlahmodel):\n",
        "  Ytrainrandom.append(np.delete(train[random[i]], (0,1), axis=1)) \n",
        "  Xtrainrandom.append(np.delete(train[random[i]], 2, axis=1)) \n",
        "\n",
        "#bagian ini buat bikin model naive bayesnya\n",
        "objmodel = list()\n",
        "for i in range(jumlahmodel):\n",
        "    objmodel.append(GaussianNB().fit(Xtrainrandom[i],Ytrainrandom[i].ravel()))\n",
        "\n",
        "#bagian ini buat cek akurasi tiap model naive bayes\n",
        "Ytestsisa = np.delete(train[test], (0,1), axis=1)\n",
        "Xtestsisa = np.delete(train[test], 2, axis=1)\n",
        "Ytestpredict = []\n",
        "for i in range(jumlahmodel):\n",
        "  Ytestpredict.append(objmodel[i].predict(Xtestsisa))\n",
        "  print(\"Akurasi Model {}: {}\".format(i,np.mean(Ytestpredict[i] == Ytestsisa)))\n",
        "\n",
        "#bagian ini buat cek akurasi bagging dari model2 naivebayes dengan melakukan voting\n",
        "BaggingYtestpredict = []\n",
        "for i in range(len(Ytestsisa)):\n",
        "  votebagging = np.array(Ytestpredict)[:,i]\n",
        "  votebagging = votebagging.astype(int)\n",
        "  counts = np.bincount(votebagging)\n",
        "  BaggingYtestpredict.append(np.argmax(counts))\n",
        "print(\"Akurasi Model Bagging: {}\".format(np.mean(BaggingYtestpredict == np.transpose(Ytestsisa))))"
      ],
      "execution_count": 14,
      "outputs": [
        {
          "output_type": "stream",
          "text": [
            "Jumlah Sisa:  24\n",
            "Akurasi Model 0: 0.5868055555555556\n",
            "Akurasi Model 1: 0.5694444444444444\n",
            "Akurasi Model 2: 0.5520833333333334\n",
            "Akurasi Model 3: 0.6041666666666666\n",
            "Akurasi Model 4: 0.5868055555555556\n",
            "Akurasi Model 5: 0.6041666666666666\n",
            "Akurasi Model 6: 0.5868055555555556\n",
            "Akurasi Model 7: 0.5520833333333334\n",
            "Akurasi Model 8: 0.5868055555555556\n",
            "Akurasi Model 9: 0.5694444444444444\n",
            "Akurasi Model 10: 0.6041666666666666\n",
            "Akurasi Model 11: 0.5520833333333334\n",
            "Akurasi Model 12: 0.5694444444444444\n",
            "Akurasi Model 13: 0.5868055555555556\n",
            "Akurasi Model 14: 0.5868055555555556\n",
            "Akurasi Model 15: 0.5868055555555556\n",
            "Akurasi Model 16: 0.5868055555555556\n",
            "Akurasi Model 17: 0.6041666666666666\n",
            "Akurasi Model 18: 0.5520833333333334\n",
            "Akurasi Model 19: 0.6041666666666666\n",
            "Akurasi Model 20: 0.5520833333333334\n",
            "Akurasi Model Bagging: 1.0\n"
          ],
          "name": "stdout"
        }
      ]
    },
    {
      "cell_type": "code",
      "metadata": {
        "id": "MZiEIn_YkbV4",
        "colab_type": "code",
        "outputId": "0a940f93-cbb9-4ad0-c001-93dbb1895a92",
        "colab": {
          "base_uri": "https://localhost:8080/",
          "height": 67
        }
      },
      "source": [
        "confusion_df = pd.DataFrame(confusion_matrix(Ytestsisa,BaggingYtestpredict),\n",
        "             columns=[\"Predicted Class \" + str(class_name) for class_name in [1.0,2.0]],\n",
        "             index = [\"Class \" + str(class_name) for class_name in [1.0,2.0]])\n",
        "print(confusion_df)"
      ],
      "execution_count": 15,
      "outputs": [
        {
          "output_type": "stream",
          "text": [
            "           Predicted Class 1.0  Predicted Class 2.0\n",
            "Class 1.0                   17                    0\n",
            "Class 2.0                    0                    7\n"
          ],
          "name": "stdout"
        }
      ]
    },
    {
      "cell_type": "markdown",
      "metadata": {
        "id": "i9NziAHEvGit",
        "colab_type": "text"
      },
      "source": [
        "###LAKUKAN TESTING UNTUK TESTSETTUGAS4ML.CSV"
      ]
    },
    {
      "cell_type": "code",
      "metadata": {
        "id": "fzKgprPzrUs6",
        "colab_type": "code",
        "outputId": "8de12c2e-85e6-4c03-a8c5-278b60169a0d",
        "colab": {
          "base_uri": "https://localhost:8080/",
          "height": 1277
        }
      },
      "source": [
        "datatest = np.genfromtxt('Bagging-Berbasis-Naive-Bayes/TestsetTugas4ML.csv', delimiter=',', skip_header=1,usecols = (0,1))\n",
        "datatest"
      ],
      "execution_count": 16,
      "outputs": [
        {
          "output_type": "execute_result",
          "data": {
            "text/plain": [
              "array([[ 3.3 , 15.45],\n",
              "       [ 3.9 , 21.85],\n",
              "       [ 4.6 , 18.25],\n",
              "       [ 5.2 , 23.4 ],\n",
              "       [ 7.05, 19.9 ],\n",
              "       [ 9.75, 25.5 ],\n",
              "       [11.65, 26.85],\n",
              "       [12.75, 22.05],\n",
              "       [14.05, 26.55],\n",
              "       [14.15, 17.35],\n",
              "       [14.2 , 22.15],\n",
              "       [15.2 , 11.7 ],\n",
              "       [15.95, 16.45],\n",
              "       [16.05, 11.9 ],\n",
              "       [16.5 , 15.15],\n",
              "       [16.95,  9.7 ],\n",
              "       [17.1 , 14.  ],\n",
              "       [17.25, 13.15],\n",
              "       [17.3 , 14.9 ],\n",
              "       [17.55,  8.1 ],\n",
              "       [17.55, 25.2 ],\n",
              "       [18.05, 11.9 ],\n",
              "       [18.25, 20.2 ],\n",
              "       [18.4 , 10.05],\n",
              "       [18.65,  6.9 ],\n",
              "       [19.05,  8.85],\n",
              "       [19.95,  8.3 ],\n",
              "       [20.1 , 21.6 ],\n",
              "       [20.45,  5.15],\n",
              "       [20.95, 18.25],\n",
              "       [21.3 , 22.3 ],\n",
              "       [21.4 ,  8.8 ],\n",
              "       [21.4 , 25.85],\n",
              "       [21.85,  8.5 ],\n",
              "       [22.15,  5.05],\n",
              "       [22.4 , 16.5 ],\n",
              "       [22.6 ,  6.7 ],\n",
              "       [22.95,  4.75],\n",
              "       [23.2 ,  5.3 ],\n",
              "       [23.45,  3.6 ],\n",
              "       [24.55,  4.  ],\n",
              "       [25.15, 19.8 ],\n",
              "       [25.2 ,  6.55],\n",
              "       [25.6 ,  3.9 ],\n",
              "       [26.6 ,  4.9 ],\n",
              "       [26.85,  2.95],\n",
              "       [27.15,  5.95],\n",
              "       [27.65, 15.65],\n",
              "       [28.8 ,  4.05],\n",
              "       [29.15,  4.4 ],\n",
              "       [29.45,  4.05],\n",
              "       [30.  ,  6.55],\n",
              "       [30.65,  5.85],\n",
              "       [30.75,  4.45],\n",
              "       [32.35,  6.1 ],\n",
              "       [32.5 ,  7.95],\n",
              "       [32.7 ,  4.6 ],\n",
              "       [33.35,  5.65],\n",
              "       [34.65,  6.25],\n",
              "       [34.7 ,  7.2 ],\n",
              "       [35.5 ,  8.05],\n",
              "       [35.75, 10.  ],\n",
              "       [35.95,  7.9 ],\n",
              "       [36.4 , 10.15],\n",
              "       [36.8 , 12.2 ],\n",
              "       [37.85, 14.5 ],\n",
              "       [38.3 , 16.5 ],\n",
              "       [38.35, 10.5 ],\n",
              "       [38.6 , 11.75],\n",
              "       [39.3 , 14.2 ],\n",
              "       [39.55, 12.3 ],\n",
              "       [39.9 , 17.05],\n",
              "       [40.45, 16.3 ],\n",
              "       [40.55, 13.15],\n",
              "       [41.3 , 15.3 ]])"
            ]
          },
          "metadata": {
            "tags": []
          },
          "execution_count": 16
        }
      ]
    },
    {
      "cell_type": "code",
      "metadata": {
        "id": "zie6WZVVr01b",
        "colab_type": "code",
        "colab": {}
      },
      "source": [
        "Ydatatestpredict = []\n",
        "for i in range(jumlahmodel):\n",
        "  Ydatatestpredict.append(objmodel[i].predict(datatest))\n",
        "\n",
        "BaggingDataTestpredict = []\n",
        "for i in range(len(datatest)):\n",
        "  votebagging = np.array(Ydatatestpredict)[:,i]\n",
        "  votebagging = votebagging.astype(int)\n",
        "  counts = np.bincount(votebagging)\n",
        "  BaggingDataTestpredict.append(np.argmax(counts))\n",
        "BaggingDataTestpredict\n",
        "np.savetxt(\"TebakanTugas4.csv\", BaggingDataTestpredict, delimiter=\",\")"
      ],
      "execution_count": 0,
      "outputs": []
    }
  ]
}