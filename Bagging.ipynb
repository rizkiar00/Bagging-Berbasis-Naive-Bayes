{
  "nbformat": 4,
  "nbformat_minor": 0,
  "metadata": {
    "colab": {
      "name": "Bagging.ipynb",
      "version": "0.3.2",
      "provenance": [],
      "collapsed_sections": [],
      "include_colab_link": true
    },
    "kernelspec": {
      "name": "python3",
      "display_name": "Python 3"
    }
  },
  "cells": [
    {
      "cell_type": "markdown",
      "metadata": {
        "id": "view-in-github",
        "colab_type": "text"
      },
      "source": [
        "<a href=\"https://colab.research.google.com/github/rizkiar00/Bagging-Berbasis-Naive-Bayes/blob/master/Bagging.ipynb\" target=\"_parent\"><img src=\"https://colab.research.google.com/assets/colab-badge.svg\" alt=\"Open In Colab\"/></a>"
      ]
    },
    {
      "cell_type": "code",
      "metadata": {
        "id": "MboIfoaz6i0X",
        "colab_type": "code",
        "colab": {
          "base_uri": "https://localhost:8080/",
          "height": 34
        },
        "outputId": "380d1e0a-ccb3-4a94-d8cb-f9c43cd73089"
      },
      "source": [
        "!git clone https://github.com/rizkiar00/Bagging-Berbasis-Naive-Bayes"
      ],
      "execution_count": 247,
      "outputs": [
        {
          "output_type": "stream",
          "text": [
            "fatal: destination path 'Bagging-Berbasis-Naive-Bayes' already exists and is not an empty directory.\n"
          ],
          "name": "stdout"
        }
      ]
    },
    {
      "cell_type": "code",
      "metadata": {
        "id": "9qg6CpYm8iVu",
        "colab_type": "code",
        "colab": {}
      },
      "source": [
        "import numpy as np\n",
        "import pandas as pd\n",
        "import matplotlib.pyplot as plt; \n",
        "from sklearn.naive_bayes import GaussianNB\n",
        "from sklearn import metrics\n",
        "%matplotlib inline"
      ],
      "execution_count": 0,
      "outputs": []
    },
    {
      "cell_type": "code",
      "metadata": {
        "id": "zvDZ22GJ6xeQ",
        "colab_type": "code",
        "colab": {
          "base_uri": "https://localhost:8080/",
          "height": 84
        },
        "outputId": "73338304-9186-4ac9-944a-1328f7493e9e"
      },
      "source": [
        "train = np.genfromtxt('Bagging-Berbasis-Naive-Bayes/TrainsetTugas4ML.csv', delimiter=',', skip_header=1)\n",
        "dftrain = pd.DataFrame(data=train)\n",
        "print(\"Kelas:\", pd.Series(dftrain.loc[:,2], name='A').unique())\n",
        "dftrain[2].value_counts()\n",
        "\n"
      ],
      "execution_count": 442,
      "outputs": [
        {
          "output_type": "stream",
          "text": [
            "Kelas: [2. 1.]\n"
          ],
          "name": "stdout"
        },
        {
          "output_type": "execute_result",
          "data": {
            "text/plain": [
              "1.0    220\n",
              "2.0     78\n",
              "Name: 2, dtype: int64"
            ]
          },
          "metadata": {
            "tags": []
          },
          "execution_count": 442
        }
      ]
    },
    {
      "cell_type": "code",
      "metadata": {
        "id": "wSaUmyaBCdyx",
        "colab_type": "code",
        "colab": {
          "base_uri": "https://localhost:8080/",
          "height": 218
        },
        "outputId": "9f1a021f-a08f-4918-d2f9-18513948a425"
      },
      "source": [
        "jumlahmodel = 10\n",
        "array = np.arange(0,dftrain.shape[0])\n",
        "random = np.random.randint(dftrain.shape[0], size=(jumlahmodel,75))\n",
        "test = [i for i in array if i not in random]\n",
        "print(\"Jumlah Sisa: \",len(test))\n",
        "Xtrainrandom = []\n",
        "Ytrainrandom = []\n",
        "for i in range(jumlahmodel):\n",
        "  Ytrainrandom.append(np.delete(train[random[i]], (0,1), axis=1)) \n",
        "  Xtrainrandom.append(np.delete(train[random[i]], 2, axis=1)) \n",
        "\n",
        "objmodel = list()\n",
        "for i in range(jumlahmodel):\n",
        "    objmodel.append(GaussianNB().fit(Xtrainrandom[i],Ytrainrandom[i].ravel()))\n",
        "\n",
        "Ytestsisa = np.delete(train[test], (0,1), axis=1)\n",
        "Xtestsisa = np.delete(train[test], 2, axis=1)\n",
        "Ytestpredict = []\n",
        "for i in range(jumlahmodel):\n",
        "  Ytestpredict.append(objmodel[i].predict(Xtestsisa))\n",
        "  print(\"Akurasi Model {}: {}\".format(i,np.mean(Ytestpredict[i] == Ytestsisa)))\n",
        "  \n",
        "BaggingYtestpredict = []\n",
        "for i in range(len(Ytestsisa)):\n",
        "  votebagging = np.array(Ytestpredict)[:,i]\n",
        "  votebagging = votebagging.astype(int)\n",
        "  counts = np.bincount(votebagging)\n",
        "  BaggingYtestpredict.append(np.argmax(counts))\n",
        "print(\"Akurasi Model Bagging: {}\".format(np.mean(BaggingYtestpredict == np.transpose(Ytestsisa))))"
      ],
      "execution_count": 528,
      "outputs": [
        {
          "output_type": "stream",
          "text": [
            "Jumlah Sisa:  20\n",
            "Akurasi Model 0: 0.54\n",
            "Akurasi Model 1: 0.56\n",
            "Akurasi Model 2: 0.58\n",
            "Akurasi Model 3: 0.58\n",
            "Akurasi Model 4: 0.56\n",
            "Akurasi Model 5: 0.54\n",
            "Akurasi Model 6: 0.58\n",
            "Akurasi Model 7: 0.56\n",
            "Akurasi Model 8: 0.56\n",
            "Akurasi Model 9: 0.54\n",
            "Akurasi Model Bagging: 0.95\n"
          ],
          "name": "stdout"
        }
      ]
    },
    {
      "cell_type": "code",
      "metadata": {
        "id": "MZiEIn_YkbV4",
        "colab_type": "code",
        "colab": {
          "base_uri": "https://localhost:8080/",
          "height": 168
        },
        "outputId": "9ce041f1-1fae-4768-becf-3df3349ee085"
      },
      "source": [
        "print(metrics.classification_report(Ytestsisa, BaggingYtestpredict, labels=[1.0,2.0]))"
      ],
      "execution_count": 529,
      "outputs": [
        {
          "output_type": "stream",
          "text": [
            "              precision    recall  f1-score   support\n",
            "\n",
            "         1.0       1.00      0.93      0.96        14\n",
            "         2.0       0.86      1.00      0.92         6\n",
            "\n",
            "   micro avg       0.95      0.95      0.95        20\n",
            "   macro avg       0.93      0.96      0.94        20\n",
            "weighted avg       0.96      0.95      0.95        20\n",
            "\n"
          ],
          "name": "stdout"
        }
      ]
    }
  ]
}